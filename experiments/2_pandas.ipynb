{
 "cells": [
  {
   "cell_type": "markdown",
   "metadata": {},
   "source": [
    "* Step1. Connect to the bucket, get the needed files here "
   ]
  },
  {
   "cell_type": "code",
   "execution_count": 1,
   "metadata": {},
   "outputs": [
    {
     "name": "stdout",
     "output_type": "stream",
     "text": [
      "gs://dsc_luo/fhir/\n",
      "gs://dsc_luo/fhir/output1/\n",
      "gs://dsc_luo/fhir/output10/\n",
      "gs://dsc_luo/fhir/output11/\n",
      "gs://dsc_luo/fhir/output12/\n",
      "gs://dsc_luo/fhir/output2/\n",
      "gs://dsc_luo/fhir/output3/\n",
      "gs://dsc_luo/fhir/output4/\n",
      "gs://dsc_luo/fhir/output5/\n",
      "gs://dsc_luo/fhir/output6/\n",
      "gs://dsc_luo/fhir/output7/\n",
      "gs://dsc_luo/fhir/output8/\n",
      "gs://dsc_luo/fhir/output9/\n"
     ]
    }
   ],
   "source": [
    "%%bash\n",
    "#structure of my storage first \n",
    "gsutil ls gs://dsc_luo/fhir"
   ]
  },
  {
   "cell_type": "code",
   "execution_count": 8,
   "metadata": {},
   "outputs": [
    {
     "name": "stdout",
     "output_type": "stream",
     "text": [
      "gs://dsc_luo/fhir/output1/\n",
      "gs://dsc_luo/fhir/output1/allergies.csv\n",
      "gs://dsc_luo/fhir/output1/careplans.csv\n",
      "gs://dsc_luo/fhir/output1/conditions.csv\n",
      "gs://dsc_luo/fhir/output1/encounters.csv\n",
      "gs://dsc_luo/fhir/output1/immunizations.csv\n",
      "gs://dsc_luo/fhir/output1/medications.csv\n",
      "gs://dsc_luo/fhir/output1/observations.csv\n",
      "gs://dsc_luo/fhir/output1/patients.csv\n",
      "gs://dsc_luo/fhir/output1/procedures.csv\n"
     ]
    }
   ],
   "source": [
    "%%bash\n",
    "gsutil ls gs://dsc_luo/fhir/output1"
   ]
  },
  {
   "cell_type": "code",
   "execution_count": 2,
   "metadata": {
    "collapsed": true
   },
   "outputs": [
    {
     "name": "stdout",
     "output_type": "stream",
     "text": [
      "Copying gs://dsc_luo/fhir/output1/encounters.csv...\n",
      "\\ [1/1 files][154.6 MiB/154.6 MiB] 100% Done                                    \n",
      "Operation completed over 1 objects/154.6 MiB.                                    \n",
      "Copying gs://dsc_luo/fhir/output2/encounters.csv...\n",
      "\\ [1/1 files][154.2 MiB/154.2 MiB] 100% Done                                    \n",
      "Operation completed over 1 objects/154.2 MiB.                                    \n",
      "Copying gs://dsc_luo/fhir/output3/encounters.csv...\n",
      "\\ [1/1 files][154.1 MiB/154.1 MiB] 100% Done                                    \n",
      "Operation completed over 1 objects/154.1 MiB.                                    \n",
      "Copying gs://dsc_luo/fhir/output4/encounters.csv...\n",
      "\\ [1/1 files][153.9 MiB/153.9 MiB] 100% Done                                    \n",
      "Operation completed over 1 objects/153.9 MiB.                                    \n",
      "Copying gs://dsc_luo/fhir/output5/encounters.csv...\n",
      "\\ [1/1 files][153.8 MiB/153.8 MiB] 100% Done                                    \n",
      "Operation completed over 1 objects/153.8 MiB.                                    \n",
      "Copying gs://dsc_luo/fhir/output6/encounters.csv...\n",
      "\\ [1/1 files][154.5 MiB/154.5 MiB] 100% Done                                    \n",
      "Operation completed over 1 objects/154.5 MiB.                                    \n",
      "Copying gs://dsc_luo/fhir/output7/encounters.csv...\n",
      "\\ [1/1 files][153.5 MiB/153.5 MiB] 100% Done                                    \n",
      "Operation completed over 1 objects/153.5 MiB.                                    \n",
      "Copying gs://dsc_luo/fhir/output8/encounters.csv...\n",
      "| [1/1 files][153.6 MiB/153.6 MiB] 100% Done                                    \n",
      "Operation completed over 1 objects/153.6 MiB.                                    \n",
      "Copying gs://dsc_luo/fhir/output9/encounters.csv...\n",
      "\\ [1/1 files][154.2 MiB/154.2 MiB] 100% Done                                    \n",
      "Operation completed over 1 objects/154.2 MiB.                                    \n",
      "Copying gs://dsc_luo/fhir/output10/encounters.csv...\n",
      "\\ [1/1 files][154.3 MiB/154.3 MiB] 100% Done                                    \n",
      "Operation completed over 1 objects/154.3 MiB.                                    \n",
      "Copying gs://dsc_luo/fhir/output11/encounters.csv...\n",
      "\\ [1/1 files][153.3 MiB/153.3 MiB] 100% Done                                    \n",
      "Operation completed over 1 objects/153.3 MiB.                                    \n",
      "Copying gs://dsc_luo/fhir/output12/encounters.csv...\n",
      "\\ [1/1 files][153.7 MiB/153.7 MiB] 100% Done                                    \n",
      "Operation completed over 1 objects/153.7 MiB.                                    \n"
     ]
    }
   ],
   "source": [
    "#transfer all files here   \n",
    "!gsutil -m cp gs://dsc_luo/fhir/output1/encounters.csv encounters1.csv\n",
    "!gsutil -m cp gs://dsc_luo/fhir/output2/encounters.csv encounters2.csv\n",
    "!gsutil -m cp gs://dsc_luo/fhir/output3/encounters.csv encounters3.csv\n",
    "!gsutil -m cp gs://dsc_luo/fhir/output4/encounters.csv encounters4.csv\n",
    "!gsutil -m cp gs://dsc_luo/fhir/output5/encounters.csv encounters5.csv\n",
    "!gsutil -m cp gs://dsc_luo/fhir/output6/encounters.csv encounters6.csv\n",
    "!gsutil -m cp gs://dsc_luo/fhir/output7/encounters.csv encounters7.csv\n",
    "!gsutil -m cp gs://dsc_luo/fhir/output8/encounters.csv encounters8.csv\n",
    "!gsutil -m cp gs://dsc_luo/fhir/output9/encounters.csv encounters9.csv\n",
    "!gsutil -m cp gs://dsc_luo/fhir/output10/encounters.csv encounters10.csv\n",
    "!gsutil -m cp gs://dsc_luo/fhir/output11/encounters.csv encounters11.csv\n",
    "!gsutil -m cp gs://dsc_luo/fhir/output12/encounters.csv encounters12.csv"
   ]
  },
  {
   "cell_type": "markdown",
   "metadata": {},
   "source": [
    "* Step2. Check and concatenate"
   ]
  },
  {
   "cell_type": "code",
   "execution_count": 2,
   "metadata": {},
   "outputs": [
    {
     "name": "stdout",
     "output_type": "stream",
     "text": [
      "encounters10.csv  encounters2.csv  encounters6.csv  hw2_pandas_grp1.ipynb\r\n",
      "encounters11.csv  encounters3.csv  encounters7.csv\r\n",
      "encounters12.csv  encounters4.csv  encounters8.csv\r\n",
      "encounters1.csv   encounters5.csv  encounters9.csv\r\n"
     ]
    }
   ],
   "source": [
    "!ls "
   ]
  },
  {
   "cell_type": "code",
   "execution_count": 3,
   "metadata": {
    "scrolled": true
   },
   "outputs": [
    {
     "name": "stdout",
     "output_type": "stream",
     "text": [
      "ID,DATE,PATIENT,CODE,DESCRIPTION,REASONCODE,REASONDESCRIPTION\n",
      "673daa98-67e9-4e80-be46-a0b547533653,2011-07-02,33f33990-ae8b-4be8-938f-e47ad473abfe,170258001,Outpatient Encounter,,\n",
      "ID,DATE,PATIENT,CODE,DESCRIPTION,REASONCODE,REASONDESCRIPTION\n",
      "d0ec6727-9463-44c2-9c52-b904949ff183,2013-12-02,d3ae0579-ac2c-48b0-a0c1-a858b63e3b99,170258001,Outpatient Encounter,,\n"
     ]
    }
   ],
   "source": [
    "%%bash\n",
    "#examine the file first\n",
    "head -n 2 encounters1.csv #we need PATIENT (matching patients table ID) & DATE & CODE column,\n",
    "head -n 2 encounters2.csv #first row, good, rest are good"
   ]
  },
  {
   "cell_type": "code",
   "execution_count": 21,
   "metadata": {},
   "outputs": [],
   "source": [
    "%%bash \n",
    "cp encounters1.csv encounters_all.csv\n",
    "tail -n +2 encounters2.csv >> encounters_all.csv\n",
    "tail -n +2 encounters3.csv >> encounters_all.csv\n",
    "tail -n +2 encounters4.csv >> encounters_all.csv\n",
    "tail -n +2 encounters5.csv >> encounters_all.csv\n",
    "tail -n +2 encounters6.csv >> encounters_all.csv\n",
    "tail -n +2 encounters7.csv >> encounters_all.csv\n",
    "tail -n +2 encounters8.csv >> encounters_all.csv\n",
    "tail -n +2 encounters9.csv >> encounters_all.csv\n",
    "tail -n +2 encounters10.csv >> encounters_all.csv\n",
    "tail -n +2 encounters11.csv >> encounters_all.csv\n",
    "tail -n +2 encounters12.csv >> encounters_all.csv"
   ]
  },
  {
   "cell_type": "markdown",
   "metadata": {},
   "source": [
    "* Step3. slice columns of PATIENT, DATE and CODE in encounters.csv file and columns in patients.csv"
   ]
  },
  {
   "cell_type": "code",
   "execution_count": 22,
   "metadata": {},
   "outputs": [
    {
     "name": "stdout",
     "output_type": "stream",
     "text": [
      "15109428 encounters_all.csv\n"
     ]
    }
   ],
   "source": [
    "%%bash\n",
    "#how many lines are there\n",
    "wc -l encounters_all.csv # 1,595,051 lines/records in patients.csv vs 15,109,428 records here "
   ]
  },
  {
   "cell_type": "code",
   "execution_count": 2,
   "metadata": {},
   "outputs": [
    {
     "name": "stdout",
     "output_type": "stream",
     "text": [
      "ID,DATE,PATIENT,CODE\n",
      "673daa98-67e9-4e80-be46-a0b547533653,2011-07-02,33f33990-ae8b-4be8-938f-e47ad473abfe,170258001\n",
      "bac018de-114a-481d-b4f9-87980d7ef8b8,2011-03-12,36d131ee-dd5b-4acb-acbe-19961c32c099,170258001\n"
     ]
    }
   ],
   "source": [
    "%%bash\n",
    "#cut multiple columns ID to code\n",
    "cat encounters_all.csv | cut -d \",\" -f 1-4 |sed '/^#/d' > encounters_all_datecode.csv  #column from ID to \n",
    "head -n 3 encounters_all_datecode.csv"
   ]
  },
  {
   "cell_type": "code",
   "execution_count": 4,
   "metadata": {},
   "outputs": [
    {
     "name": "stdout",
     "output_type": "stream",
     "text": [
      "ID,BIRTHDATE,DEATHDATE,SSN,DRIVERS,PASSPORT,PREFIX,FIRST,LAST,SUFFIX,MAIDEN,MARITAL,RACE,ETHNICITY,GENDER,BIRTHPLACE,ADDRESS\n",
      "33f33990-ae8b-4be8-938f-e47ad473abfe,1995-04-05,36d131ee-dd5b-4acb-acbe-19961c32c099,1997-05-18,,,999-84-9382999-69-7030,S99923464,false,Mr.,Nash950,Raynor678,,,,white,italian,M,Boston MA US,,S99943248,X93787069X,Mr.,Jennings258,Mertz249,,,,white,polish,M,Danvers MA US,526 Herzog Parkways Eastham MA 02642 US\n",
      "64066 Johns Bridge Suite 317 Eastham MA 02642 US\n",
      "660bec03-9e58-47f2-98b9-2f1c564f3838,1996-07-26,,999-70-3315,S99945940,false,Ms.,Geovany567,Reichert456,,,,white,irish,F,Fitchburg MA US,20810 Bart Inlet Eastham MA 02642 US\n",
      "5125d2b2-3aef-4ae2-aa5c-335f7e206b92,1996-09-24,,999-89-6289,S99991246,false,Ms.,Tianna156,Kuphal267,,,,white,french_canadian,F,Westborough MA US,295 Walter Mill Dennis MA 02638 US\n",
      "ID,BIRTHDATE,DEATHDATE,SSN,DRIVERS,PASSPORT,PREFIX,FIRST,LAST,SUFFIX,MAIDEN,MARITAL,RACE,ETHNICITY,GENDER\n",
      "33f33990-ae8b-4be8-938f-e47ad473abfe,1995-04-05,36d131ee-dd5b-4acb-acbe-19961c32c099,1997-05-18,,,999-84-9382999-69-7030,S99923464,false,Mr.,Nash950,Raynor678,,,\n",
      "64066 Johns Bridge Suite 317 Eastham MA 02642 US\n"
     ]
    }
   ],
   "source": [
    "%%bash\n",
    "#cut multiple columns ID to code\n",
    "head -n 5 ../hw1_largeText_grp1/patients_all.csv\n",
    "cat ../hw1_largeText_grp1/patients_all.csv | cut -d \",\" -f 1-15 |sed '/^#/d' > patients_all_needed.csv  #column from ID to \n",
    "head -n 3 patients_all_needed.csv"
   ]
  },
  {
   "cell_type": "markdown",
   "metadata": {},
   "source": [
    "* step4. using pandas to group the records per patient, and match the results with patients.csv"
   ]
  },
  {
   "cell_type": "code",
   "execution_count": 1,
   "metadata": {},
   "outputs": [
    {
     "data": {
      "text/html": [
       "<div>\n",
       "<style scoped>\n",
       "    .dataframe tbody tr th:only-of-type {\n",
       "        vertical-align: middle;\n",
       "    }\n",
       "\n",
       "    .dataframe tbody tr th {\n",
       "        vertical-align: top;\n",
       "    }\n",
       "\n",
       "    .dataframe thead th {\n",
       "        text-align: right;\n",
       "    }\n",
       "</style>\n",
       "<table border=\"1\" class=\"dataframe\">\n",
       "  <thead>\n",
       "    <tr style=\"text-align: right;\">\n",
       "      <th></th>\n",
       "      <th>ID</th>\n",
       "      <th>DATE</th>\n",
       "      <th>PATIENT</th>\n",
       "      <th>CODE</th>\n",
       "    </tr>\n",
       "  </thead>\n",
       "  <tbody>\n",
       "    <tr>\n",
       "      <th>0</th>\n",
       "      <td>673daa98-67e9-4e80-be46-a0b547533653</td>\n",
       "      <td>2011-07-02</td>\n",
       "      <td>33f33990-ae8b-4be8-938f-e47ad473abfe</td>\n",
       "      <td>170258001</td>\n",
       "    </tr>\n",
       "    <tr>\n",
       "      <th>1</th>\n",
       "      <td>bac018de-114a-481d-b4f9-87980d7ef8b8</td>\n",
       "      <td>2011-03-12</td>\n",
       "      <td>36d131ee-dd5b-4acb-acbe-19961c32c099</td>\n",
       "      <td>170258001</td>\n",
       "    </tr>\n",
       "    <tr>\n",
       "      <th>2</th>\n",
       "      <td>be0aa510-645e-421b-ad21-8a1ab442ca48</td>\n",
       "      <td>2012-06-17</td>\n",
       "      <td>33f33990-ae8b-4be8-938f-e47ad473abfe</td>\n",
       "      <td>170258001</td>\n",
       "    </tr>\n",
       "    <tr>\n",
       "      <th>3</th>\n",
       "      <td>ff93cedb-8245-4091-838d-a568bcbcb00b</td>\n",
       "      <td>2011-05-15</td>\n",
       "      <td>36d131ee-dd5b-4acb-acbe-19961c32c099</td>\n",
       "      <td>185345009</td>\n",
       "    </tr>\n",
       "    <tr>\n",
       "      <th>4</th>\n",
       "      <td>296a1fd4-56de-451c-a5fe-b50f9a18472d</td>\n",
       "      <td>2012-03-26</td>\n",
       "      <td>36d131ee-dd5b-4acb-acbe-19961c32c099</td>\n",
       "      <td>170258001</td>\n",
       "    </tr>\n",
       "  </tbody>\n",
       "</table>\n",
       "</div>"
      ],
      "text/plain": [
       "                                     ID        DATE  \\\n",
       "0  673daa98-67e9-4e80-be46-a0b547533653  2011-07-02   \n",
       "1  bac018de-114a-481d-b4f9-87980d7ef8b8  2011-03-12   \n",
       "2  be0aa510-645e-421b-ad21-8a1ab442ca48  2012-06-17   \n",
       "3  ff93cedb-8245-4091-838d-a568bcbcb00b  2011-05-15   \n",
       "4  296a1fd4-56de-451c-a5fe-b50f9a18472d  2012-03-26   \n",
       "\n",
       "                                PATIENT       CODE  \n",
       "0  33f33990-ae8b-4be8-938f-e47ad473abfe  170258001  \n",
       "1  36d131ee-dd5b-4acb-acbe-19961c32c099  170258001  \n",
       "2  33f33990-ae8b-4be8-938f-e47ad473abfe  170258001  \n",
       "3  36d131ee-dd5b-4acb-acbe-19961c32c099  185345009  \n",
       "4  36d131ee-dd5b-4acb-acbe-19961c32c099  170258001  "
      ]
     },
     "metadata": {},
     "output_type": "display_data"
    },
    {
     "name": "stdout",
     "output_type": "stream",
     "text": [
      "(15109427, 4)\n",
      "1424253\n"
     ]
    }
   ],
   "source": [
    "import pandas as pd\n",
    "df = pd.read_csv('encounters_all_datecode.csv')\n",
    "display(df.head())\n",
    "print(df.shape) #(15109427, 4)\n",
    "print(df['PATIENT'].nunique()) #1,424,253, this is the patient identifer"
   ]
  },
  {
   "cell_type": "code",
   "execution_count": 2,
   "metadata": {},
   "outputs": [
    {
     "name": "stdout",
     "output_type": "stream",
     "text": [
      "(1424253, 5)\n"
     ]
    },
    {
     "data": {
      "text/html": [
       "<div>\n",
       "<style scoped>\n",
       "    .dataframe tbody tr th:only-of-type {\n",
       "        vertical-align: middle;\n",
       "    }\n",
       "\n",
       "    .dataframe tbody tr th {\n",
       "        vertical-align: top;\n",
       "    }\n",
       "\n",
       "    .dataframe thead th {\n",
       "        text-align: right;\n",
       "    }\n",
       "</style>\n",
       "<table border=\"1\" class=\"dataframe\">\n",
       "  <thead>\n",
       "    <tr style=\"text-align: right;\">\n",
       "      <th></th>\n",
       "      <th>PATIENT</th>\n",
       "      <th>enc_counts</th>\n",
       "      <th>Enc_DATE</th>\n",
       "      <th>enc_code_counts</th>\n",
       "      <th>Enc_CODE</th>\n",
       "    </tr>\n",
       "  </thead>\n",
       "  <tbody>\n",
       "    <tr>\n",
       "      <th>0</th>\n",
       "      <td>00000579-4471-4e83-9084-6234196c2ba5</td>\n",
       "      <td>6</td>\n",
       "      <td>[2010-08-27, 2012-02-18, 2012-02-27, 2013-12-0...</td>\n",
       "      <td>6</td>\n",
       "      <td>[185349003, 698314001, 305408004, 185349003, 1...</td>\n",
       "    </tr>\n",
       "    <tr>\n",
       "      <th>1</th>\n",
       "      <td>00000ab0-643a-475c-99ba-02c66fe6ab57</td>\n",
       "      <td>3</td>\n",
       "      <td>[2010-12-01, 2011-11-09, 2015-01-16]</td>\n",
       "      <td>3</td>\n",
       "      <td>[185345009, 185349003, 185349003]</td>\n",
       "    </tr>\n",
       "    <tr>\n",
       "      <th>2</th>\n",
       "      <td>000011c5-810b-498a-9213-7c7c6d29cf63</td>\n",
       "      <td>9</td>\n",
       "      <td>[2010-08-19, 2011-10-20, 2012-11-17, 2013-10-2...</td>\n",
       "      <td>9</td>\n",
       "      <td>[185349003, 185349003, 185349003, 185349003, 1...</td>\n",
       "    </tr>\n",
       "    <tr>\n",
       "      <th>3</th>\n",
       "      <td>00004593-7847-4654-8e32-e3548fdb8e50</td>\n",
       "      <td>10</td>\n",
       "      <td>[2010-08-25, 2011-05-05, 2011-09-16, 2012-05-0...</td>\n",
       "      <td>10</td>\n",
       "      <td>[185349003, 185345009, 185345009, 185349003, 1...</td>\n",
       "    </tr>\n",
       "    <tr>\n",
       "      <th>4</th>\n",
       "      <td>00004593-87ae-40ac-bfec-7e2dd37b690f</td>\n",
       "      <td>10</td>\n",
       "      <td>[2011-07-08, 2011-08-14, 2011-10-24, 2012-04-1...</td>\n",
       "      <td>10</td>\n",
       "      <td>[185345009, 185349003, 185345009, 185345009, 3...</td>\n",
       "    </tr>\n",
       "  </tbody>\n",
       "</table>\n",
       "</div>"
      ],
      "text/plain": [
       "                                PATIENT  enc_counts  \\\n",
       "0  00000579-4471-4e83-9084-6234196c2ba5           6   \n",
       "1  00000ab0-643a-475c-99ba-02c66fe6ab57           3   \n",
       "2  000011c5-810b-498a-9213-7c7c6d29cf63           9   \n",
       "3  00004593-7847-4654-8e32-e3548fdb8e50          10   \n",
       "4  00004593-87ae-40ac-bfec-7e2dd37b690f          10   \n",
       "\n",
       "                                            Enc_DATE  enc_code_counts  \\\n",
       "0  [2010-08-27, 2012-02-18, 2012-02-27, 2013-12-0...                6   \n",
       "1               [2010-12-01, 2011-11-09, 2015-01-16]                3   \n",
       "2  [2010-08-19, 2011-10-20, 2012-11-17, 2013-10-2...                9   \n",
       "3  [2010-08-25, 2011-05-05, 2011-09-16, 2012-05-0...               10   \n",
       "4  [2011-07-08, 2011-08-14, 2011-10-24, 2012-04-1...               10   \n",
       "\n",
       "                                            Enc_CODE  \n",
       "0  [185349003, 698314001, 305408004, 185349003, 1...  \n",
       "1                  [185345009, 185349003, 185349003]  \n",
       "2  [185349003, 185349003, 185349003, 185349003, 1...  \n",
       "3  [185349003, 185345009, 185345009, 185349003, 1...  \n",
       "4  [185345009, 185349003, 185345009, 185345009, 3...  "
      ]
     },
     "metadata": {},
     "output_type": "display_data"
    },
    {
     "data": {
      "text/plain": [
       "count    1.424253e+06\n",
       "mean     1.060867e+01\n",
       "std      9.598487e+00\n",
       "min      1.000000e+00\n",
       "25%      5.000000e+00\n",
       "50%      9.000000e+00\n",
       "75%      1.200000e+01\n",
       "max      1.470000e+02\n",
       "Name: enc_counts, dtype: float64"
      ]
     },
     "metadata": {},
     "output_type": "display_data"
    }
   ],
   "source": [
    "#grouped_by 'PATIENT', get the counts, and lists for 'DATE' and 'CODE'\n",
    "\n",
    "df_grouped = df.groupby(\"PATIENT\").agg(**{\"enc_counts\": pd.NamedAgg(column='DATE', aggfunc=\"count\"),\n",
    "                          \"Enc_DATE\": pd.NamedAgg(column='DATE', aggfunc=lambda x:x.to_list()),\n",
    "                          \"enc_code_counts\": pd.NamedAgg(column='CODE', aggfunc=\"count\"),                \n",
    "                          \"Enc_CODE\": pd.NamedAgg(column='CODE', aggfunc=lambda x:x.to_list())}).reset_index()\n",
    "print(df_grouped.shape)\n",
    "display(df_grouped.head()) #enc_counts from DATE and enc_code_counts from CODE match \n",
    "display(df_grouped['enc_counts'].describe()) #min 1, max 147, mean 1"
   ]
  },
  {
   "cell_type": "code",
   "execution_count": 3,
   "metadata": {},
   "outputs": [],
   "source": [
    "df_patients = pd.read_csv('patients_all_needed.csv')"
   ]
  },
  {
   "cell_type": "code",
   "execution_count": 4,
   "metadata": {},
   "outputs": [
    {
     "data": {
      "text/html": [
       "<div>\n",
       "<style scoped>\n",
       "    .dataframe tbody tr th:only-of-type {\n",
       "        vertical-align: middle;\n",
       "    }\n",
       "\n",
       "    .dataframe tbody tr th {\n",
       "        vertical-align: top;\n",
       "    }\n",
       "\n",
       "    .dataframe thead th {\n",
       "        text-align: right;\n",
       "    }\n",
       "</style>\n",
       "<table border=\"1\" class=\"dataframe\">\n",
       "  <thead>\n",
       "    <tr style=\"text-align: right;\">\n",
       "      <th></th>\n",
       "      <th>ID</th>\n",
       "      <th>BIRTHDATE</th>\n",
       "      <th>DEATHDATE</th>\n",
       "      <th>SSN</th>\n",
       "      <th>DRIVERS</th>\n",
       "      <th>PASSPORT</th>\n",
       "      <th>PREFIX</th>\n",
       "      <th>FIRST</th>\n",
       "      <th>LAST</th>\n",
       "      <th>SUFFIX</th>\n",
       "      <th>MAIDEN</th>\n",
       "      <th>MARITAL</th>\n",
       "      <th>RACE</th>\n",
       "      <th>ETHNICITY</th>\n",
       "      <th>GENDER</th>\n",
       "      <th>Enc_DATE</th>\n",
       "      <th>Enc_CODE</th>\n",
       "    </tr>\n",
       "  </thead>\n",
       "  <tbody>\n",
       "    <tr>\n",
       "      <th>1</th>\n",
       "      <td>64066 Johns Bridge Suite 317 Eastham MA 02642 US</td>\n",
       "      <td>NaN</td>\n",
       "      <td>NaN</td>\n",
       "      <td>NaN</td>\n",
       "      <td>NaN</td>\n",
       "      <td>NaN</td>\n",
       "      <td>NaN</td>\n",
       "      <td>NaN</td>\n",
       "      <td>NaN</td>\n",
       "      <td>NaN</td>\n",
       "      <td>NaN</td>\n",
       "      <td>NaN</td>\n",
       "      <td>NaN</td>\n",
       "      <td>NaN</td>\n",
       "      <td>NaN</td>\n",
       "      <td>NaN</td>\n",
       "      <td>NaN</td>\n",
       "    </tr>\n",
       "    <tr>\n",
       "      <th>6</th>\n",
       "      <td>4c763cac-b1df-4bcc-b89c-834942c4d3d6</td>\n",
       "      <td>1946-03-05</td>\n",
       "      <td>1967-01-10</td>\n",
       "      <td>999-52-5432</td>\n",
       "      <td>S99989461</td>\n",
       "      <td>false</td>\n",
       "      <td>Ms.</td>\n",
       "      <td>Demarco886</td>\n",
       "      <td>Osinski65</td>\n",
       "      <td>NaN</td>\n",
       "      <td>NaN</td>\n",
       "      <td>NaN</td>\n",
       "      <td>white</td>\n",
       "      <td>irish</td>\n",
       "      <td>F</td>\n",
       "      <td>NaN</td>\n",
       "      <td>NaN</td>\n",
       "    </tr>\n",
       "  </tbody>\n",
       "</table>\n",
       "</div>"
      ],
      "text/plain": [
       "                                                 ID   BIRTHDATE   DEATHDATE  \\\n",
       "1  64066 Johns Bridge Suite 317 Eastham MA 02642 US         NaN         NaN   \n",
       "6              4c763cac-b1df-4bcc-b89c-834942c4d3d6  1946-03-05  1967-01-10   \n",
       "\n",
       "           SSN    DRIVERS PASSPORT PREFIX       FIRST       LAST SUFFIX  \\\n",
       "1          NaN        NaN      NaN    NaN         NaN        NaN    NaN   \n",
       "6  999-52-5432  S99989461    false    Ms.  Demarco886  Osinski65    NaN   \n",
       "\n",
       "  MAIDEN MARITAL   RACE ETHNICITY GENDER Enc_DATE Enc_CODE  \n",
       "1    NaN     NaN    NaN       NaN    NaN      NaN      NaN  \n",
       "6    NaN     NaN  white     irish      F      NaN      NaN  "
      ]
     },
     "metadata": {},
     "output_type": "display_data"
    },
    {
     "data": {
      "text/html": [
       "<div>\n",
       "<style scoped>\n",
       "    .dataframe tbody tr th:only-of-type {\n",
       "        vertical-align: middle;\n",
       "    }\n",
       "\n",
       "    .dataframe tbody tr th {\n",
       "        vertical-align: top;\n",
       "    }\n",
       "\n",
       "    .dataframe thead th {\n",
       "        text-align: right;\n",
       "    }\n",
       "</style>\n",
       "<table border=\"1\" class=\"dataframe\">\n",
       "  <thead>\n",
       "    <tr style=\"text-align: right;\">\n",
       "      <th></th>\n",
       "      <th>ID</th>\n",
       "      <th>BIRTHDATE</th>\n",
       "      <th>DEATHDATE</th>\n",
       "      <th>SSN</th>\n",
       "      <th>DRIVERS</th>\n",
       "      <th>PASSPORT</th>\n",
       "      <th>PREFIX</th>\n",
       "      <th>FIRST</th>\n",
       "      <th>LAST</th>\n",
       "      <th>SUFFIX</th>\n",
       "      <th>MAIDEN</th>\n",
       "      <th>MARITAL</th>\n",
       "      <th>RACE</th>\n",
       "      <th>ETHNICITY</th>\n",
       "      <th>GENDER</th>\n",
       "      <th>Enc_DATE</th>\n",
       "      <th>Enc_CODE</th>\n",
       "    </tr>\n",
       "  </thead>\n",
       "  <tbody>\n",
       "    <tr>\n",
       "      <th>710946</th>\n",
       "      <td>c74586f6-16c1-4972-ace1-c46005c9a5d3</td>\n",
       "      <td>1998-07-02</td>\n",
       "      <td>NaN</td>\n",
       "      <td>999-63-6767</td>\n",
       "      <td>S99972748</td>\n",
       "      <td>NaN</td>\n",
       "      <td>Mr.</td>\n",
       "      <td>Beverly485</td>\n",
       "      <td>Rohan75</td>\n",
       "      <td>NaN</td>\n",
       "      <td>NaN</td>\n",
       "      <td>NaN</td>\n",
       "      <td>white</td>\n",
       "      <td>irish</td>\n",
       "      <td>M</td>\n",
       "      <td>[2010-05-29, 2010-07-01, 2010-07-03, 2010-08-0...</td>\n",
       "      <td>[185347001, 185347001, 394701000, 185347001, 1...</td>\n",
       "    </tr>\n",
       "    <tr>\n",
       "      <th>1573861</th>\n",
       "      <td>58792e4a-e012-4fec-a6ed-081b9cc073ce</td>\n",
       "      <td>2000-03-01</td>\n",
       "      <td>NaN</td>\n",
       "      <td>999-95-3571</td>\n",
       "      <td>S99990457</td>\n",
       "      <td>NaN</td>\n",
       "      <td>NaN</td>\n",
       "      <td>Brooks268</td>\n",
       "      <td>Kshlerin253</td>\n",
       "      <td>NaN</td>\n",
       "      <td>NaN</td>\n",
       "      <td>NaN</td>\n",
       "      <td>hispanic</td>\n",
       "      <td>central_american</td>\n",
       "      <td>F</td>\n",
       "      <td>[2010-06-01, 2010-07-13, 2010-07-31, 2010-08-1...</td>\n",
       "      <td>[185347001, 185347001, 170258001, 185347001, 1...</td>\n",
       "    </tr>\n",
       "  </tbody>\n",
       "</table>\n",
       "</div>"
      ],
      "text/plain": [
       "                                           ID   BIRTHDATE DEATHDATE  \\\n",
       "710946   c74586f6-16c1-4972-ace1-c46005c9a5d3  1998-07-02       NaN   \n",
       "1573861  58792e4a-e012-4fec-a6ed-081b9cc073ce  2000-03-01       NaN   \n",
       "\n",
       "                 SSN    DRIVERS PASSPORT PREFIX       FIRST         LAST  \\\n",
       "710946   999-63-6767  S99972748      NaN    Mr.  Beverly485      Rohan75   \n",
       "1573861  999-95-3571  S99990457      NaN    NaN   Brooks268  Kshlerin253   \n",
       "\n",
       "        SUFFIX MAIDEN MARITAL      RACE         ETHNICITY GENDER  \\\n",
       "710946     NaN    NaN     NaN     white             irish      M   \n",
       "1573861    NaN    NaN     NaN  hispanic  central_american      F   \n",
       "\n",
       "                                                  Enc_DATE  \\\n",
       "710946   [2010-05-29, 2010-07-01, 2010-07-03, 2010-08-0...   \n",
       "1573861  [2010-06-01, 2010-07-13, 2010-07-31, 2010-08-1...   \n",
       "\n",
       "                                                  Enc_CODE  \n",
       "710946   [185347001, 185347001, 394701000, 185347001, 1...  \n",
       "1573861  [185347001, 185347001, 170258001, 185347001, 1...  "
      ]
     },
     "metadata": {},
     "output_type": "display_data"
    },
    {
     "name": "stdout",
     "output_type": "stream",
     "text": [
      "(1594711, 17)\n"
     ]
    }
   ],
   "source": [
    "#match and sort\n",
    "merged_pt_enc = pd.merge(left=df_patients, right = df_grouped, how = 'left', left_on = 'ID', right_on ='PATIENT')\n",
    "merged_pt_enc.sort_values(by='enc_counts', inplace = True, na_position='first') #no vists patients at the very beginning\n",
    "cols_kept = ['ID','BIRTHDATE','DEATHDATE','SSN','DRIVERS','PASSPORT','PREFIX','FIRST','LAST','SUFFIX','MAIDEN','MARITAL','RACE','ETHNICITY','GENDER','Enc_DATE', 'Enc_CODE']\n",
    "merged_final = merged_pt_enc[cols_kept]\n",
    "display(merged_final.head(2)) #very beginnging are patients with no visits recorded\n",
    "display(merged_final.tail(2)) #very end are patients with lots of encounters\n",
    "print(merged_final.shape) #1,594,711 * 17"
   ]
  },
  {
   "cell_type": "markdown",
   "metadata": {},
   "source": [
    "We can see that the length of encounter lists varies from zero (in the very begging of the dataframe) to 147 (at the very end of the dataframe) for patients."
   ]
  },
  {
   "cell_type": "code",
   "execution_count": 5,
   "metadata": {},
   "outputs": [
    {
     "data": {
      "text/plain": [
       "172312"
      ]
     },
     "execution_count": 5,
     "metadata": {},
     "output_type": "execute_result"
    }
   ],
   "source": [
    "#total na counts\n",
    "merged_pt_enc[\"enc_code_counts\"].isna().sum()"
   ]
  },
  {
   "cell_type": "code",
   "execution_count": null,
   "metadata": {},
   "outputs": [],
   "source": []
  }
 ],
 "metadata": {
  "kernelspec": {
   "display_name": "Python 3",
   "language": "python",
   "name": "python3"
  },
  "language_info": {
   "codemirror_mode": {
    "name": "ipython",
    "version": 3
   },
   "file_extension": ".py",
   "mimetype": "text/x-python",
   "name": "python",
   "nbconvert_exporter": "python",
   "pygments_lexer": "ipython3",
   "version": "3.6.10"
  }
 },
 "nbformat": 4,
 "nbformat_minor": 1
}
