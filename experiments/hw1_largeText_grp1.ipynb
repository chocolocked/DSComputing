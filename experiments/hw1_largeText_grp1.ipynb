{
 "cells": [
  {
   "cell_type": "markdown",
   "metadata": {},
   "source": [
    "* Step1. Connect to the bucket, get the needed files here "
   ]
  },
  {
   "cell_type": "code",
   "execution_count": 7,
   "metadata": {},
   "outputs": [
    {
     "name": "stdout",
     "output_type": "stream",
     "text": [
      "gs://dsc_luo/fhir/\n",
      "gs://dsc_luo/fhir/output1/\n",
      "gs://dsc_luo/fhir/output10/\n",
      "gs://dsc_luo/fhir/output11/\n",
      "gs://dsc_luo/fhir/output12/\n",
      "gs://dsc_luo/fhir/output2/\n",
      "gs://dsc_luo/fhir/output3/\n",
      "gs://dsc_luo/fhir/output4/\n",
      "gs://dsc_luo/fhir/output5/\n",
      "gs://dsc_luo/fhir/output6/\n",
      "gs://dsc_luo/fhir/output7/\n",
      "gs://dsc_luo/fhir/output8/\n",
      "gs://dsc_luo/fhir/output9/\n"
     ]
    }
   ],
   "source": [
    "%%bash\n",
    "#structure of my storage first \n",
    "gsutil ls gs://dsc_luo/fhir"
   ]
  },
  {
   "cell_type": "code",
   "execution_count": 8,
   "metadata": {},
   "outputs": [
    {
     "name": "stdout",
     "output_type": "stream",
     "text": [
      "gs://dsc_luo/fhir/output1/\n",
      "gs://dsc_luo/fhir/output1/allergies.csv\n",
      "gs://dsc_luo/fhir/output1/careplans.csv\n",
      "gs://dsc_luo/fhir/output1/conditions.csv\n",
      "gs://dsc_luo/fhir/output1/encounters.csv\n",
      "gs://dsc_luo/fhir/output1/immunizations.csv\n",
      "gs://dsc_luo/fhir/output1/medications.csv\n",
      "gs://dsc_luo/fhir/output1/observations.csv\n",
      "gs://dsc_luo/fhir/output1/patients.csv\n",
      "gs://dsc_luo/fhir/output1/procedures.csv\n"
     ]
    }
   ],
   "source": [
    "%%bash\n",
    "gsutil ls gs://dsc_luo/fhir/output1"
   ]
  },
  {
   "cell_type": "code",
   "execution_count": 14,
   "metadata": {
    "collapsed": true
   },
   "outputs": [
    {
     "name": "stdout",
     "output_type": "stream",
     "text": [
      "Copying gs://dsc_luo/fhir/output1/patients.csv...\n",
      "/ [1/1 files][ 23.7 MiB/ 23.7 MiB] 100% Done                                    \n",
      "Operation completed over 1 objects/23.7 MiB.                                     \n",
      "Copying gs://dsc_luo/fhir/output2/patients.csv...\n",
      "/ [1/1 files][ 23.8 MiB/ 23.8 MiB] 100% Done                                    \n",
      "Operation completed over 1 objects/23.8 MiB.                                     \n",
      "Copying gs://dsc_luo/fhir/output3/patients.csv...\n",
      "/ [1/1 files][ 23.6 MiB/ 23.6 MiB] 100% Done                                    \n",
      "Operation completed over 1 objects/23.6 MiB.                                     \n",
      "Copying gs://dsc_luo/fhir/output4/patients.csv...\n",
      "/ [1/1 files][ 23.7 MiB/ 23.7 MiB] 100% Done                                    \n",
      "Operation completed over 1 objects/23.7 MiB.                                     \n",
      "Copying gs://dsc_luo/fhir/output5/patients.csv...\n",
      "/ [1/1 files][ 23.8 MiB/ 23.8 MiB] 100% Done                                    \n",
      "Operation completed over 1 objects/23.8 MiB.                                     \n",
      "Copying gs://dsc_luo/fhir/output6/patients.csv...\n",
      "/ [1/1 files][ 23.6 MiB/ 23.6 MiB] 100% Done                                    \n",
      "Operation completed over 1 objects/23.6 MiB.                                     \n",
      "Copying gs://dsc_luo/fhir/output7/patients.csv...\n",
      "/ [1/1 files][ 23.6 MiB/ 23.6 MiB] 100% Done                                    \n",
      "Operation completed over 1 objects/23.6 MiB.                                     \n",
      "Copying gs://dsc_luo/fhir/output8/patients.csv...\n",
      "/ [1/1 files][ 23.7 MiB/ 23.7 MiB] 100% Done                                    \n",
      "Operation completed over 1 objects/23.7 MiB.                                     \n",
      "Copying gs://dsc_luo/fhir/output9/patients.csv...\n",
      "/ [1/1 files][ 23.7 MiB/ 23.7 MiB] 100% Done                                    \n",
      "Operation completed over 1 objects/23.7 MiB.                                     \n",
      "Copying gs://dsc_luo/fhir/output10/patients.csv...\n",
      "/ [1/1 files][ 23.5 MiB/ 23.5 MiB] 100% Done                                    \n",
      "Operation completed over 1 objects/23.5 MiB.                                     \n",
      "Copying gs://dsc_luo/fhir/output11/patients.csv...\n",
      "/ [1/1 files][ 23.6 MiB/ 23.6 MiB] 100% Done                                    \n",
      "Operation completed over 1 objects/23.6 MiB.                                     \n",
      "Copying gs://dsc_luo/fhir/output12/patients.csv...\n",
      "/ [1/1 files][ 23.7 MiB/ 23.7 MiB] 100% Done                                    \n",
      "Operation completed over 1 objects/23.7 MiB.                                     \n"
     ]
    }
   ],
   "source": [
    "#transfer all files here   \n",
    "!gsutil -m cp gs://dsc_luo/fhir/output1/patients.csv patients1.csv\n",
    "!gsutil -m cp gs://dsc_luo/fhir/output2/patients.csv patients2.csv\n",
    "!gsutil -m cp gs://dsc_luo/fhir/output3/patients.csv patients3.csv\n",
    "!gsutil -m cp gs://dsc_luo/fhir/output4/patients.csv patients4.csv\n",
    "!gsutil -m cp gs://dsc_luo/fhir/output5/patients.csv patients5.csv\n",
    "!gsutil -m cp gs://dsc_luo/fhir/output6/patients.csv patients6.csv\n",
    "!gsutil -m cp gs://dsc_luo/fhir/output7/patients.csv patients7.csv\n",
    "!gsutil -m cp gs://dsc_luo/fhir/output8/patients.csv patients8.csv\n",
    "!gsutil -m cp gs://dsc_luo/fhir/output9/patients.csv patients9.csv\n",
    "!gsutil -m cp gs://dsc_luo/fhir/output10/patients.csv patients10.csv\n",
    "!gsutil -m cp gs://dsc_luo/fhir/output11/patients.csv patients11.csv\n",
    "!gsutil -m cp gs://dsc_luo/fhir/output12/patients.csv patients12.csv"
   ]
  },
  {
   "cell_type": "markdown",
   "metadata": {},
   "source": [
    "* Step2. Check and concatenate"
   ]
  },
  {
   "cell_type": "code",
   "execution_count": 15,
   "metadata": {},
   "outputs": [
    {
     "name": "stdout",
     "output_type": "stream",
     "text": [
      "hw1_largeText_grp1.ipynb  patients1.csv  patients5.csv\tpatients9.csv\r\n",
      "patients10.csv\t\t  patients2.csv  patients6.csv\r\n",
      "patients11.csv\t\t  patients3.csv  patients7.csv\r\n",
      "patients12.csv\t\t  patients4.csv  patients8.csv\r\n"
     ]
    }
   ],
   "source": [
    "!ls "
   ]
  },
  {
   "cell_type": "code",
   "execution_count": 70,
   "metadata": {
    "scrolled": true
   },
   "outputs": [
    {
     "name": "stdout",
     "output_type": "stream",
     "text": [
      "ID,BIRTHDATE,DEATHDATE,SSN,DRIVERS,PASSPORT,PREFIX,FIRST,LAST,SUFFIX,MAIDEN,MARITAL,RACE,ETHNICITY,GENDER,BIRTHPLACE,ADDRESS\n",
      "33f33990-ae8b-4be8-938f-e47ad473abfe,1995-04-05,36d131ee-dd5b-4acb-acbe-19961c32c099,1997-05-18,,,999-84-9382999-69-7030,S99923464,false,Mr.,Nash950,Raynor678,,,,white,italian,M,Boston MA US,,S99943248,X93787069X,Mr.,Jennings258,Mertz249,,,,white,polish,M,Danvers MA US,526 Herzog Parkways Eastham MA 02642 US\n",
      "ID,BIRTHDATE,DEATHDATE,SSN,DRIVERS,PASSPORT,PREFIX,FIRST,LAST,SUFFIX,MAIDEN,MARITAL,RACE,ETHNICITY,GENDER,BIRTHPLACE,ADDRESS\n",
      "d3ae0579-ac2c-48b0-a0c1-a858b63e3b99,2013-12-02,,999-85-8182,,,,Katlynn733,Kulas756,,,,white,scottish,M,North Andover MA US,971 MacGyver Lake Apt. 695 Chatham MA 02633 US\n"
     ]
    }
   ],
   "source": [
    "%%bash\n",
    "#examine the file first\n",
    "head -n 2 patients1.csv #we need ID & RACE column, also something wrong with the first row\n",
    "head -n 2 patients2.csv #first row, good, rest are good"
   ]
  },
  {
   "cell_type": "code",
   "execution_count": 22,
   "metadata": {},
   "outputs": [],
   "source": [
    "%%bash \n",
    "cp patients1.csv patients_all.csv\n",
    "tail -n +2 patients2.csv >> patients_all.csv\n",
    "tail -n +2 patients3.csv >> patients_all.csv\n",
    "tail -n +2 patients4.csv >> patients_all.csv\n",
    "tail -n +2 patients5.csv >> patients_all.csv\n",
    "tail -n +2 patients6.csv >> patients_all.csv\n",
    "tail -n +2 patients7.csv >> patients_all.csv\n",
    "tail -n +2 patients8.csv >> patients_all.csv\n",
    "tail -n +2 patients9.csv >> patients_all.csv\n",
    "tail -n +2 patients10.csv >> patients_all.csv\n",
    "tail -n +2 patients11.csv >> patients_all.csv\n",
    "tail -n +2 patients12.csv >> patients_all.csv"
   ]
  },
  {
   "cell_type": "markdown",
   "metadata": {},
   "source": [
    "* Step3. check # of patients and Race distribution using two methods"
   ]
  },
  {
   "cell_type": "code",
   "execution_count": 23,
   "metadata": {},
   "outputs": [
    {
     "name": "stdout",
     "output_type": "stream",
     "text": [
      "1595051 patients_all.csv\n"
     ]
    }
   ],
   "source": [
    "%%bash\n",
    "#how many lines are there\n",
    "wc -l patients_all.csv # 1,595,051 lines/recordd"
   ]
  },
  {
   "cell_type": "markdown",
   "metadata": {},
   "source": [
    "#### For patients:"
   ]
  },
  {
   "cell_type": "code",
   "execution_count": 102,
   "metadata": {},
   "outputs": [
    {
     "name": "stdout",
     "output_type": "stream",
     "text": [
      "1592973\n"
     ]
    }
   ],
   "source": [
    "%%bash \n",
    "#this match the pattern for id, as we know it '33f33990-ae8b-4be8-938f-e47ad473abfe' all the file\n",
    "egrep '[[:alnum:]]{8}-[[:alnum:]]{4}-[[:alnum:]]{4}-[[:alnum:]]{4}-[[:alnum:]]{12}' patients_all.csv | wc -l"
   ]
  },
  {
   "cell_type": "code",
   "execution_count": 103,
   "metadata": {},
   "outputs": [
    {
     "name": "stdout",
     "output_type": "stream",
     "text": [
      "1592968\n"
     ]
    }
   ],
   "source": [
    "%%bash\n",
    "#slice ID first and then search for the pattern\n",
    "cat patients_all.csv | cut -d \",\" -f 1|sed '/^#/d' > patients_all_id.csv #column1\n",
    "egrep '[[:alnum:]]{8}-[[:alnum:]]{4}-[[:alnum:]]{4}-[[:alnum:]]{4}-[[:alnum:]]{12}' patients_all_id.csv | wc -l"
   ]
  },
  {
   "cell_type": "code",
   "execution_count": 4,
   "metadata": {},
   "outputs": [
    {
     "data": {
      "text/plain": [
       "1593866"
      ]
     },
     "metadata": {},
     "output_type": "display_data"
    }
   ],
   "source": [
    "df_id = pd.read_csv('patients_all_id.csv')\n",
    "display(df_id['ID'].nunique())"
   ]
  },
  {
   "cell_type": "markdown",
   "metadata": {},
   "source": [
    "We found that these two results are, in general, pretty close (1,592,973 vs 1,592,968). Based on the inital file check in step2, we concluded that there might be multiple patients' id patterns within the same line (for example 'patients.csv' in output1, line2. 'egrep'ing patterns in the 'patients_all.csv' file would count this as multiple, whereas 'egrep'ing patterns in the sliced 'patients_all_id.csv' file only count 1 appearance per line maximum. Either way could be justifiable, but we decided to go with the option where we sliced and counted. **Therefore, our total number of patients is 1,592,968**."
   ]
  },
  {
   "cell_type": "markdown",
   "metadata": {},
   "source": [
    "#### For RACE distribution"
   ]
  },
  {
   "cell_type": "code",
   "execution_count": 109,
   "metadata": {},
   "outputs": [
    {
     "name": "stdout",
     "output_type": "stream",
     "text": [
      "1230167\n",
      "115660\n",
      "156618\n",
      "91751\n",
      "50\n"
     ]
    }
   ],
   "source": [
    "%%bash \n",
    "grep -o ',white,' patients_all.csv  |wc -l\n",
    "grep -o ',black,' patients_all.csv  |wc -l\n",
    "grep -o ',hispanic,' patients_all.csv  |wc -l\n",
    "grep -o ',asian,' patients_all.csv |wc -l\n",
    "grep -o ',native,' patients_all.csv  |wc -l"
   ]
  },
  {
   "cell_type": "code",
   "execution_count": 116,
   "metadata": {},
   "outputs": [
    {
     "name": "stdout",
     "output_type": "stream",
     "text": [
      "1227774\n",
      "115475\n",
      "156326\n",
      "91579\n",
      "50\n"
     ]
    }
   ],
   "source": [
    "%%bash\n",
    "#slice RACE first and then search for the pattern\n",
    "cat patients_all.csv | cut -d \",\" -f 13 |sed '/^#/d' > patients_all_race.csv  #column 13\n",
    "grep -o '^white$' patients_all_race.csv |wc -l\n",
    "grep -o '^black$' patients_all_race.csv |wc -l\n",
    "grep -o '^hispanic$' patients_all_race.csv|wc -l\n",
    "grep -o '^asian$' patients_all_race.csv |wc -l\n",
    "grep -o '^native$' patients_all_race.csv  |wc -l"
   ]
  },
  {
   "cell_type": "code",
   "execution_count": 118,
   "metadata": {},
   "outputs": [
    {
     "data": {
      "text/plain": [
       "white       1227774\n",
       "hispanic     156326\n",
       "black        115475\n",
       "asian         91579\n",
       "M               297\n",
       "irish            86\n",
       "S                60\n",
       "native           50\n",
       "italian          43\n",
       "english          39\n",
       "Name: RACE, dtype: int64"
      ]
     },
     "metadata": {},
     "output_type": "display_data"
    }
   ],
   "source": [
    "#we further confirm race info sliced \n",
    "df_race = pd.read_csv('patients_all_race.csv')\n",
    "display(df_race['RACE'].value_counts()[:10])"
   ]
  },
  {
   "cell_type": "markdown",
   "metadata": {},
   "source": [
    "So again, 'grep'ing RACE in the 'patients_all.csv' returned us more cases in each category than the 'sliced' option. In order to be consisent with our previous result of total number of patients, we decided to go with the sliced results. Just to verify the 'grep' result, we further read the sliced 'patients_all_race.csv' into pandas and read top 10 counts. We can see that there are some mixed/error entries for RACE, but the counts for 'white, 'hispanic', 'black', 'asian' and 'native' are consistent with 'grep' results. Therefore, the total number for **'white, 'hispanic', 'black', 'asian' and 'native' are 1,227,774, 156,326, 115,475, 91,579, and 50 respectively**. Further w plot the results as below."
   ]
  },
  {
   "cell_type": "code",
   "execution_count": 143,
   "metadata": {},
   "outputs": [],
   "source": [
    "import seaborn as sns\n",
    "import matplotlib.pyplot as plt \n",
    "%matplotlib inline"
   ]
  },
  {
   "cell_type": "code",
   "execution_count": 156,
   "metadata": {},
   "outputs": [
    {
     "data": {
      "text/html": [
       "<div>\n",
       "<style scoped>\n",
       "    .dataframe tbody tr th:only-of-type {\n",
       "        vertical-align: middle;\n",
       "    }\n",
       "\n",
       "    .dataframe tbody tr th {\n",
       "        vertical-align: top;\n",
       "    }\n",
       "\n",
       "    .dataframe thead th {\n",
       "        text-align: right;\n",
       "    }\n",
       "</style>\n",
       "<table border=\"1\" class=\"dataframe\">\n",
       "  <thead>\n",
       "    <tr style=\"text-align: right;\">\n",
       "      <th></th>\n",
       "      <th>index</th>\n",
       "      <th>RACE</th>\n",
       "    </tr>\n",
       "  </thead>\n",
       "  <tbody>\n",
       "    <tr>\n",
       "      <th>0</th>\n",
       "      <td>white</td>\n",
       "      <td>1227774</td>\n",
       "    </tr>\n",
       "    <tr>\n",
       "      <th>1</th>\n",
       "      <td>hispanic</td>\n",
       "      <td>156326</td>\n",
       "    </tr>\n",
       "    <tr>\n",
       "      <th>2</th>\n",
       "      <td>black</td>\n",
       "      <td>115475</td>\n",
       "    </tr>\n",
       "    <tr>\n",
       "      <th>3</th>\n",
       "      <td>asian</td>\n",
       "      <td>91579</td>\n",
       "    </tr>\n",
       "    <tr>\n",
       "      <th>4</th>\n",
       "      <td>native</td>\n",
       "      <td>50</td>\n",
       "    </tr>\n",
       "  </tbody>\n",
       "</table>\n",
       "</div>"
      ],
      "text/plain": [
       "      index     RACE\n",
       "0     white  1227774\n",
       "1  hispanic   156326\n",
       "2     black   115475\n",
       "3     asian    91579\n",
       "4    native       50"
      ]
     },
     "metadata": {},
     "output_type": "display_data"
    }
   ],
   "source": [
    "#a bit data reformating\n",
    "race = pd.DataFrame(df_race['RACE'].value_counts())\n",
    "race1, race2 = race.iloc[0:4, ].copy(),race.iloc[7:8, ].copy()\n",
    "race = pd.concat([race1,race2])\n",
    "race.reset_index(inplace = True)\n",
    "display(race) #sorted already"
   ]
  },
  {
   "cell_type": "code",
   "execution_count": 160,
   "metadata": {},
   "outputs": [
    {
     "data": {
      "image/png": "[encoded data removed]",
      "text/plain": [
       "<Figure size 864x576 with 1 Axes>"
      ]
     },
     "metadata": {},
     "output_type": "display_data"
    }
   ],
   "source": [
    "sns.set()\n",
    "plt.figure(figsize=(12,8))\n",
    "# plot barh chart with index as x values\n",
    "ax = sns.barplot(race['index'], race['RACE'])\n",
    "ax.get_yaxis().set_major_formatter(plt.FuncFormatter(lambda x, loc: \"{:,}\".format(int(x))))\n",
    "ax.set(xlabel=\"RACE\", ylabel='Count')\n",
    "# add proper Dim values as x labels\n",
    "ax.set_xticklabels(race['index'])\n",
    "for item in ax.get_xticklabels(): item.set_rotation(90)\n",
    "for i, v in enumerate(race[\"RACE\"].iteritems()):        \n",
    "    ax.text(i ,v[1], \"{:,}\".format(v[1]), color='m', va ='bottom', rotation=45)\n",
    "plt.tight_layout()\n",
    "plt.title('RACE distribution')\n",
    "plt.show()"
   ]
  },
  {
   "cell_type": "code",
   "execution_count": null,
   "metadata": {},
   "outputs": [],
   "source": []
  },
  {
   "cell_type": "code",
   "execution_count": null,
   "metadata": {},
   "outputs": [],
   "source": []
  },
  {
   "cell_type": "code",
   "execution_count": null,
   "metadata": {},
   "outputs": [],
   "source": []
  },
  {
   "cell_type": "code",
   "execution_count": null,
   "metadata": {},
   "outputs": [],
   "source": []
  },
  {
   "cell_type": "code",
   "execution_count": null,
   "metadata": {},
   "outputs": [],
   "source": []
  },
  {
   "cell_type": "code",
   "execution_count": null,
   "metadata": {},
   "outputs": [],
   "source": []
  },
  {
   "cell_type": "code",
   "execution_count": 175,
   "metadata": {},
   "outputs": [
    {
     "name": "stdout",
     "output_type": "stream",
     "text": [
      "patients1.csv\n",
      "patients2.csv\n",
      "patients3.csv\n",
      "patients4.csv\n",
      "patients5.csv\n",
      "patients6.csv\n",
      "patients7.csv\n",
      "patients8.csv\n",
      "patients9.csv\n",
      "patients10.csv\n",
      "patients11.csv\n",
      "patients12.csv\n"
     ]
    }
   ],
   "source": [
    "'''\n",
    "%%bash\n",
    "ls patients?.csv\n",
    "ls patients??.csv\n",
    "'''"
   ]
  }
 ],
 "metadata": {
  "kernelspec": {
   "display_name": "Python 3",
   "language": "python",
   "name": "python3"
  },
  "language_info": {
   "codemirror_mode": {
    "name": "ipython",
    "version": 3
   },
   "file_extension": ".py",
   "mimetype": "text/x-python",
   "name": "python",
   "nbconvert_exporter": "python",
   "pygments_lexer": "ipython3",
   "version": "3.6.10"
  }
 },
 "nbformat": 4,
 "nbformat_minor": 1
}
